{
  "nbformat": 4,
  "nbformat_minor": 0,
  "metadata": {
    "colab": {
      "name": "basics01.ipynb",
      "provenance": [],
      "authorship_tag": "ABX9TyNorCRvR4r+lcRwDL+jA8/j",
      "include_colab_link": true
    },
    "kernelspec": {
      "name": "python3",
      "display_name": "Python 3"
    }
  },
  "cells": [
    {
      "cell_type": "markdown",
      "metadata": {
        "id": "view-in-github",
        "colab_type": "text"
      },
      "source": [
        "<a href=\"https://colab.research.google.com/github/Jczo/MyMLRepo/blob/master/basics01.ipynb\" target=\"_parent\"><img src=\"https://colab.research.google.com/assets/colab-badge.svg\" alt=\"Open In Colab\"/></a>"
      ]
    },
    {
      "cell_type": "markdown",
      "metadata": {
        "id": "Q5lIgfqpMVrC"
      },
      "source": [
        "create 5 variables"
      ]
    },
    {
      "cell_type": "code",
      "metadata": {
        "id": "W5J37np7MXas"
      },
      "source": [
        "first_name = \"jose\";\n",
        "last_name = \"canalizo\";\n",
        "major = \"Comp Sci\";\n",
        "borough = \"Queens\";\n",
        "college = \"medgar evers college\";\n"
      ],
      "execution_count": 5,
      "outputs": []
    },
    {
      "cell_type": "code",
      "metadata": {
        "colab": {
          "base_uri": "https://localhost:8080/"
        },
        "id": "396kHqxsMSU6",
        "outputId": "8485d602-4ad1-47ca-c352-fbc1154f00b1"
      },
      "source": [
        "print(first_name);"
      ],
      "execution_count": 6,
      "outputs": [
        {
          "output_type": "stream",
          "text": [
            "jose\n"
          ],
          "name": "stdout"
        }
      ]
    },
    {
      "cell_type": "code",
      "metadata": {
        "id": "jAxA6VHmNNsn"
      },
      "source": [
        "#Create 10 last name variables\n",
        "\n",
        "lastName = \"friedman\"\n",
        "last_Name = \"gibson\"\n",
        "last_name = \"fender\"\n",
        "LAST_NAME = \"Leslie\"\n",
        "lastname = \"Marshall\"\n",
        "LASTname = \"Ibanez\"\n",
        "lAsTnAmE = \"Epiphone\"\n",
        "LaStNaMe = \"squire\"\n",
        "LASTNAME = \"Soldano\"\n",
        "last___name = \"Jackson\""
      ],
      "execution_count": 7,
      "outputs": []
    },
    {
      "cell_type": "code",
      "metadata": {
        "id": "d6WFGjLLZlJy"
      },
      "source": [
        "#Create 10 lists, 10 bool, and 10 floats\n",
        "\n",
        "#10 LISTS\n",
        "string = [\"s\",\"t\",\"r\",\"i\",\"n\",\"g\"];\n",
        "someList = [\"Hello\",\"goodbye\"];\n",
        "listOfNames = [\"eddy\", \"freddy\", \"becky\"];\n",
        "listOfFruits = [\"banana\", \"blueberries\"];\n",
        "listOfRandomThings = [10, \"NotanInteger\", 10.34, \"aString\"];\n",
        "emptyList = [];\n",
        "nullList = [];\n",
        "schools = [\"NYU\",\"LaGuardia\",\"Hunter\",\"MIT\"];\n",
        "cities = [\"New York\",\"Seattle\"];\n",
        "listOfLanguages = [\"PYTHON\", \"JAVASCRIPT\", \"C++\"]\n",
        "\n",
        "#10 BOOL\n",
        "\n",
        "truthValue = false\n",
        "truth_value = true\n",
        "isPythonGood = true\n",
        "isC++Good = true\n",
        "isJavaScriptGood = true\n",
        "isThisClassHard = true\n",
        "isThisAlotOfTime = true\n",
        "amISleepy = true\n",
        "amIgoingToGetMoreCoffee = true\n",
        "amIHereRightNow? = false\n",
        "\n",
        "#10Floats\n",
        "\n",
        "pi = 3.14\n",
        "one = 1.00\n",
        "two = 2.00\n",
        "three = 3.00\n",
        "four = 4.00\n",
        "five = 5.00\n",
        "six = 6.00\n",
        "seven = 7.00\n",
        "eight = 8.00\n",
        "nine = 9.00\n"
      ],
      "execution_count": null,
      "outputs": []
    }
  ]
}