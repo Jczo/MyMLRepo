{
  "nbformat": 4,
  "nbformat_minor": 0,
  "metadata": {
    "colab": {
      "name": "Untitled",
      "provenance": [],
      "authorship_tag": "ABX9TyMNFI3HcR+gc/r7gXCiJYDs",
      "include_colab_link": true
    },
    "kernelspec": {
      "name": "python3",
      "display_name": "Python 3"
    }
  },
  "cells": [
    {
      "cell_type": "markdown",
      "metadata": {
        "id": "view-in-github",
        "colab_type": "text"
      },
      "source": [
        "<a href=\"https://colab.research.google.com/github/Jczo/MyMLRepo/blob/master/Untitled.ipynb\" target=\"_parent\"><img src=\"https://colab.research.google.com/assets/colab-badge.svg\" alt=\"Open In Colab\"/></a>"
      ]
    },
    {
      "cell_type": "markdown",
      "metadata": {
        "id": "Q5lIgfqpMVrC"
      },
      "source": [
        "create 5 variables"
      ]
    },
    {
      "cell_type": "code",
      "metadata": {
        "id": "W5J37np7MXas"
      },
      "source": [
        "first_name = \"jose\";\n",
        "last_name = \"canalizo\";\n",
        "major = \"Comp Sci\";\n",
        "borough = \"Queens\";\n",
        "college = \"medgar evers college\";\n"
      ],
      "execution_count": null,
      "outputs": []
    },
    {
      "cell_type": "code",
      "metadata": {
        "colab": {
          "base_uri": "https://localhost:8080/"
        },
        "id": "396kHqxsMSU6",
        "outputId": "8485d602-4ad1-47ca-c352-fbc1154f00b1"
      },
      "source": [
        "print(first_name);"
      ],
      "execution_count": null,
      "outputs": [
        {
          "output_type": "stream",
          "text": [
            "jose\n"
          ],
          "name": "stdout"
        }
      ]
    },
    {
      "cell_type": "code",
      "metadata": {
        "id": "jAxA6VHmNNsn"
      },
      "source": [
        "#Create 10 last name variables\n",
        "\n",
        "lastName = \"friedman\"\n",
        "last_Name = \"gibson\"\n",
        "last_name = \"fender\"\n",
        "LAST_NAME = \"Leslie\"\n",
        "lastname = \"Marshall\"\n",
        "LASTname = \"Ibanez\"\n",
        "lAsTnAmE = \"Epiphone\"\n",
        "LaStNaMe = \"squire\"\n",
        "LASTNAME = \"Soldano\"\n",
        "last___name = \"Jackson\""
      ],
      "execution_count": null,
      "outputs": []
    },
    {
      "cell_type": "code",
      "metadata": {
        "id": "d6WFGjLLZlJy"
      },
      "source": [
        "#Create 10 lists, 10 bool, and 10 floats\n",
        "\n",
        "#10 LISTS\n",
        "string = [\"s\",\"t\",\"r\",\"i\",\"n\",\"g\"];\n",
        "someList = [\"Hello\",\"goodbye\"];\n",
        "listOfNames = [\"eddy\", \"freddy\", \"becky\"];\n",
        "listOfFruits = [\"banana\", \"blueberries\"];\n",
        "listOfRandomThings = [10, \"NotanInteger\", 10.34, \"aString\"];\n",
        "emptyList = [];\n",
        "nullList = [];\n",
        "schools = [\"NYU\",\"LaGuardia\",\"Hunter\",\"MIT\"];\n",
        "cities = [\"New York\",\"Seattle\"];\n",
        "listOfLanguages = [\"PYTHON\", \"JAVASCRIPT\", \"C++\"]\n",
        "\n",
        "#10 BOOL\n",
        "\n",
        "truthValue = False\n",
        "truth_value = True\n",
        "isPythonGood = True\n",
        "isCPlusPlusGood = True\n",
        "isJavaScriptGood = True\n",
        "isThisClassHard = True\n",
        "isThisAlotOfTime = True\n",
        "amISleepy = True\n",
        "amIgoingToGetMoreCoffee = True\n",
        "amIHereRightNow = False\n",
        "\n",
        "#10Floats\n",
        "\n",
        "pi = 3.14\n",
        "one = 1.00\n",
        "two = 2.00\n",
        "three = 3.00\n",
        "four = 4.00\n",
        "five = 5.00\n",
        "six = 6.00\n",
        "seven = 7.00\n",
        "eight = 8.00\n",
        "nine = 9.00\n"
      ],
      "execution_count": null,
      "outputs": []
    },
    {
      "cell_type": "code",
      "metadata": {
        "id": "15C7n7MljBbS"
      },
      "source": [
        "#make dictionaries: \n",
        "#10 foods, 10 names, 5 sports players\n",
        "\n",
        "10Foods = {'food1':'chicken breast', 'food2':'rice', 'food3':'banana', \n",
        "           'food4':'scrambled eggs', 'food5':'coffee', 'food6':'steak', \n",
        "           'food7':'blueberries', 'food8':'spring mix salad', \n",
        "           'food9':'water', 'food10':'avocado' }\n",
        "\n",
        "\n",
        "10names = {'name1':'joey', 'name2':'joe', 'name3':'joseph',\n",
        "           'name4':'johnas', 'name5':'jonas', 'name6':'jose', \n",
        "           'name7':'jonathan','name8':'jo','name9':'john','name10''terrance'}\n",
        "\n",
        "5SportsPlayers = {'player1':'Messi', 'player2':'Jordan', \n",
        "                  'player3':'lebron', 'player4':'ronaldo',\n",
        "                  'player5':'idontknowanyptherplayers'}"
      ],
      "execution_count": null,
      "outputs": []
    }
  ]
}