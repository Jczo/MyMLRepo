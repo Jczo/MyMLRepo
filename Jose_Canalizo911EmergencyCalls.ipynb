{
  "nbformat": 4,
  "nbformat_minor": 0,
  "metadata": {
    "colab": {
      "name": "Jose Canalizo911EmergencyCalls.ipynb",
      "provenance": [],
      "include_colab_link": true
    },
    "kernelspec": {
      "name": "python3",
      "display_name": "Python 3"
    }
  },
  "cells": [
    {
      "cell_type": "markdown",
      "metadata": {
        "id": "view-in-github",
        "colab_type": "text"
      },
      "source": [
        "<a href=\"https://colab.research.google.com/github/Jczo/MyMLRepo/blob/master/Jose_Canalizo911EmergencyCalls.ipynb\" target=\"_parent\"><img src=\"https://colab.research.google.com/assets/colab-badge.svg\" alt=\"Open In Colab\"/></a>"
      ]
    },
    {
      "cell_type": "markdown",
      "metadata": {
        "id": "P5dUtcQvvbBo"
      },
      "source": [
        "#Case Study\r\n",
        "\r\n",
        "Congrats! You have been contracted to conduct a brief analysis of a dataset containing ememrgency calls in order to determine the allocation of funds to you local authorities.  This analysis will play a role in deciding changes to the emergency response department.\r\n",
        "\r\n",
        "The data is based in 911 emergency calls and your job is to determine a variety of issues regarding said calls.\r\n",
        "\r\n",
        "1. Using Pandas and Numpy, analyse the data and come up with 5 questions that you would like to answer about the data.\r\n",
        "\r\n",
        "2. the instructor will provide a rnage of questions to answer and you should use your knowledge to complte them as a team."
      ]
    },
    {
      "cell_type": "markdown",
      "metadata": {
        "id": "XtBzetPrmXkB"
      },
      "source": [
        "The 5 questions:\n",
        "- ***How many unique titles are there? (call reasons)***\n",
        " - 110 unique titles\n",
        "- ***What are the top 5 reasons for calling 911?***\n",
        "The top 5 reasons are:\n",
        "\n",
        "  - Traffic: VEHICLE ACCIDENT - 23.18%\n",
        "\n",
        "  - Traffic: DISABLED VEHICLE - 7.74%\n",
        "\n",
        "  - Fire: FIRE ALARM - 5.52%\n",
        "\n",
        "  - EMS: RESPIRATORY EMERGENCY - 5.14%\n",
        "\n",
        "  - EMS: CARDIAC EMERGENCY - 5.04%\n",
        "\n",
        "- ***How many calls are vehicle related?***\n",
        "  - Vehicle related calls are 37.78% of all calls\n",
        "\n",
        "- ***which zip code had the highest calls? Which had the least?***\n",
        "  - 19401 had the most amount of calls\n",
        "  - 17752 had the least amount of calls\n",
        "\n",
        "- ***Which day had the most calls? Which day had the least?***\n",
        "  - 2015-12-10 had the most calls, with 0.008041% of all calls.\n",
        "  - 2016-07-10 had the least amount of calls, with 0.001005 of all calls"
      ]
    },
    {
      "cell_type": "code",
      "metadata": {
        "id": "W9grgLjZ_7Wv"
      },
      "source": [
        "import pandas as pd\n",
        "import numpy as np\n"
      ],
      "execution_count": 1,
      "outputs": []
    },
    {
      "cell_type": "code",
      "metadata": {
        "id": "CZK5RGBPobT6",
        "colab": {
          "base_uri": "https://localhost:8080/"
        },
        "outputId": "603ac871-c705-4796-8a4e-703519c02f9d"
      },
      "source": [
        "from google.colab import drive\n",
        "drive.mount('/content/drive')"
      ],
      "execution_count": 2,
      "outputs": [
        {
          "output_type": "stream",
          "text": [
            "Mounted at /content/drive\n"
          ],
          "name": "stdout"
        }
      ]
    },
    {
      "cell_type": "code",
      "metadata": {
        "id": "9jVHxvJLocVu"
      },
      "source": [
        "data = pd.read_csv('/content/drive/MyDrive/911data/911.csv')"
      ],
      "execution_count": 3,
      "outputs": []
    },
    {
      "cell_type": "code",
      "metadata": {
        "colab": {
          "base_uri": "https://localhost:8080/",
          "height": 289
        },
        "id": "tTlAUqGupQC7",
        "outputId": "a8e1eea6-e41a-4161-d02e-2131ae3e1e83"
      },
      "source": [
        "data.head()"
      ],
      "execution_count": 4,
      "outputs": [
        {
          "output_type": "execute_result",
          "data": {
            "text/html": [
              "<div>\n",
              "<style scoped>\n",
              "    .dataframe tbody tr th:only-of-type {\n",
              "        vertical-align: middle;\n",
              "    }\n",
              "\n",
              "    .dataframe tbody tr th {\n",
              "        vertical-align: top;\n",
              "    }\n",
              "\n",
              "    .dataframe thead th {\n",
              "        text-align: right;\n",
              "    }\n",
              "</style>\n",
              "<table border=\"1\" class=\"dataframe\">\n",
              "  <thead>\n",
              "    <tr style=\"text-align: right;\">\n",
              "      <th></th>\n",
              "      <th>lat</th>\n",
              "      <th>lng</th>\n",
              "      <th>desc</th>\n",
              "      <th>zip</th>\n",
              "      <th>title</th>\n",
              "      <th>timeStamp</th>\n",
              "      <th>twp</th>\n",
              "      <th>addr</th>\n",
              "      <th>e</th>\n",
              "    </tr>\n",
              "  </thead>\n",
              "  <tbody>\n",
              "    <tr>\n",
              "      <th>0</th>\n",
              "      <td>40.297876</td>\n",
              "      <td>-75.581294</td>\n",
              "      <td>REINDEER CT &amp; DEAD END;  NEW HANOVER; Station ...</td>\n",
              "      <td>19525.0</td>\n",
              "      <td>EMS: BACK PAINS/INJURY</td>\n",
              "      <td>2015-12-10 17:40:00</td>\n",
              "      <td>NEW HANOVER</td>\n",
              "      <td>REINDEER CT &amp; DEAD END</td>\n",
              "      <td>1</td>\n",
              "    </tr>\n",
              "    <tr>\n",
              "      <th>1</th>\n",
              "      <td>40.258061</td>\n",
              "      <td>-75.264680</td>\n",
              "      <td>BRIAR PATH &amp; WHITEMARSH LN;  HATFIELD TOWNSHIP...</td>\n",
              "      <td>19446.0</td>\n",
              "      <td>EMS: DIABETIC EMERGENCY</td>\n",
              "      <td>2015-12-10 17:40:00</td>\n",
              "      <td>HATFIELD TOWNSHIP</td>\n",
              "      <td>BRIAR PATH &amp; WHITEMARSH LN</td>\n",
              "      <td>1</td>\n",
              "    </tr>\n",
              "    <tr>\n",
              "      <th>2</th>\n",
              "      <td>40.121182</td>\n",
              "      <td>-75.351975</td>\n",
              "      <td>HAWS AVE; NORRISTOWN; 2015-12-10 @ 14:39:21-St...</td>\n",
              "      <td>19401.0</td>\n",
              "      <td>Fire: GAS-ODOR/LEAK</td>\n",
              "      <td>2015-12-10 17:40:00</td>\n",
              "      <td>NORRISTOWN</td>\n",
              "      <td>HAWS AVE</td>\n",
              "      <td>1</td>\n",
              "    </tr>\n",
              "    <tr>\n",
              "      <th>3</th>\n",
              "      <td>40.116153</td>\n",
              "      <td>-75.343513</td>\n",
              "      <td>AIRY ST &amp; SWEDE ST;  NORRISTOWN; Station 308A;...</td>\n",
              "      <td>19401.0</td>\n",
              "      <td>EMS: CARDIAC EMERGENCY</td>\n",
              "      <td>2015-12-10 17:40:01</td>\n",
              "      <td>NORRISTOWN</td>\n",
              "      <td>AIRY ST &amp; SWEDE ST</td>\n",
              "      <td>1</td>\n",
              "    </tr>\n",
              "    <tr>\n",
              "      <th>4</th>\n",
              "      <td>40.251492</td>\n",
              "      <td>-75.603350</td>\n",
              "      <td>CHERRYWOOD CT &amp; DEAD END;  LOWER POTTSGROVE; S...</td>\n",
              "      <td>NaN</td>\n",
              "      <td>EMS: DIZZINESS</td>\n",
              "      <td>2015-12-10 17:40:01</td>\n",
              "      <td>LOWER POTTSGROVE</td>\n",
              "      <td>CHERRYWOOD CT &amp; DEAD END</td>\n",
              "      <td>1</td>\n",
              "    </tr>\n",
              "  </tbody>\n",
              "</table>\n",
              "</div>"
            ],
            "text/plain": [
              "         lat        lng  ...                        addr  e\n",
              "0  40.297876 -75.581294  ...      REINDEER CT & DEAD END  1\n",
              "1  40.258061 -75.264680  ...  BRIAR PATH & WHITEMARSH LN  1\n",
              "2  40.121182 -75.351975  ...                    HAWS AVE  1\n",
              "3  40.116153 -75.343513  ...          AIRY ST & SWEDE ST  1\n",
              "4  40.251492 -75.603350  ...    CHERRYWOOD CT & DEAD END  1\n",
              "\n",
              "[5 rows x 9 columns]"
            ]
          },
          "metadata": {
            "tags": []
          },
          "execution_count": 4
        }
      ]
    },
    {
      "cell_type": "code",
      "metadata": {
        "colab": {
          "base_uri": "https://localhost:8080/"
        },
        "id": "KaqpGYJupecX",
        "outputId": "39e8a4f2-88bc-4491-c5c8-3c19bf3573b7"
      },
      "source": [
        "data.info()"
      ],
      "execution_count": 5,
      "outputs": [
        {
          "output_type": "stream",
          "text": [
            "<class 'pandas.core.frame.DataFrame'>\n",
            "RangeIndex: 99492 entries, 0 to 99491\n",
            "Data columns (total 9 columns):\n",
            " #   Column     Non-Null Count  Dtype  \n",
            "---  ------     --------------  -----  \n",
            " 0   lat        99492 non-null  float64\n",
            " 1   lng        99492 non-null  float64\n",
            " 2   desc       99492 non-null  object \n",
            " 3   zip        86637 non-null  float64\n",
            " 4   title      99492 non-null  object \n",
            " 5   timeStamp  99492 non-null  object \n",
            " 6   twp        99449 non-null  object \n",
            " 7   addr       98973 non-null  object \n",
            " 8   e          99492 non-null  int64  \n",
            "dtypes: float64(3), int64(1), object(5)\n",
            "memory usage: 6.8+ MB\n"
          ],
          "name": "stdout"
        }
      ]
    },
    {
      "cell_type": "markdown",
      "metadata": {
        "id": "C8qV6pFbtJQN"
      },
      "source": [
        "**1. How many unique titles are there?**"
      ]
    },
    {
      "cell_type": "code",
      "metadata": {
        "colab": {
          "base_uri": "https://localhost:8080/"
        },
        "id": "H-O4nVUYpiRb",
        "outputId": "c80cc979-8f1c-4ccd-b08b-6e249b30839d"
      },
      "source": [
        "uniqueTitles = data['title'].unique()\n",
        "titlesCount = uniqueTitles.size\n",
        "print(uniqueTitles)\n"
      ],
      "execution_count": 6,
      "outputs": [
        {
          "output_type": "stream",
          "text": [
            "['EMS: BACK PAINS/INJURY' 'EMS: DIABETIC EMERGENCY' 'Fire: GAS-ODOR/LEAK'\n",
            " 'EMS: CARDIAC EMERGENCY' 'EMS: DIZZINESS' 'EMS: HEAD INJURY'\n",
            " 'EMS: NAUSEA/VOMITING' 'EMS: RESPIRATORY EMERGENCY'\n",
            " 'EMS: SYNCOPAL EPISODE' 'Traffic: VEHICLE ACCIDENT -'\n",
            " 'EMS: VEHICLE ACCIDENT' 'Traffic: DISABLED VEHICLE -'\n",
            " 'Fire: APPLIANCE FIRE' 'EMS: GENERAL WEAKNESS'\n",
            " 'Fire: CARBON MONOXIDE DETECTOR' 'EMS: UNKNOWN MEDICAL EMERGENCY'\n",
            " 'EMS: UNRESPONSIVE SUBJECT' 'Fire: VEHICLE ACCIDENT'\n",
            " 'EMS: ALTERED MENTAL STATUS' 'Fire: FIRE ALARM' 'EMS: CVA/STROKE'\n",
            " 'Traffic: ROAD OBSTRUCTION -' 'EMS: SUBJECT IN PAIN' 'EMS: HEMORRHAGING'\n",
            " 'EMS: FALL VICTIM' 'EMS: ASSAULT VICTIM' 'EMS: SEIZURES'\n",
            " 'EMS: MEDICAL ALERT ALARM' 'EMS: ABDOMINAL PAINS' 'Fire: PUMP DETAIL'\n",
            " 'Fire: FIRE INVESTIGATION' 'EMS: OVERDOSE' 'EMS: MATERNITY'\n",
            " 'EMS: UNCONSCIOUS SUBJECT' 'EMS: CHOKING' 'EMS: LACERATIONS'\n",
            " 'Fire: TRASH/DUMPSTER FIRE' 'Fire: UNKNOWN TYPE FIRE'\n",
            " 'Fire: BUILDING FIRE' 'Fire: ELECTRICAL FIRE OUTSIDE'\n",
            " 'Fire: DEBRIS/FLUIDS ON HIGHWAY' 'Traffic: DEBRIS/FLUIDS ON HIGHWAY -'\n",
            " 'EMS: FEVER' 'EMS: ALLERGIC REACTION' 'Traffic: VEHICLE LEAKING FUEL -'\n",
            " 'EMS: FRACTURE' 'Fire: BURN VICTIM' 'EMS: BURN VICTIM'\n",
            " 'Fire: RESCUE - GENERAL' 'Fire: WOODS/FIELD FIRE' 'EMS: RESCUE - GENERAL'\n",
            " 'Fire: FIRE SPECIAL SERVICE' 'Fire: VEHICLE FIRE'\n",
            " 'Traffic: VEHICLE FIRE -' 'EMS: WARRANT SERVICE'\n",
            " 'Fire: S/B AT HELICOPTER LANDING' 'EMS: EMS SPECIAL SERVICE'\n",
            " 'Traffic: HAZARDOUS ROAD CONDITIONS -' 'Fire: RESCUE - ELEVATOR'\n",
            " 'EMS: FIRE SPECIAL SERVICE' 'EMS: DEHYDRATION'\n",
            " 'EMS: CARBON MONOXIDE DETECTOR' 'EMS: BUILDING FIRE'\n",
            " 'EMS: APPLIANCE FIRE' 'EMS: SHOOTING' 'EMS: POISONING'\n",
            " 'Fire: TRANSFERRED CALL' 'Fire: RESCUE - TECHNICAL'\n",
            " 'EMS: RESCUE - TECHNICAL' 'Fire: VEHICLE LEAKING FUEL' 'EMS: EYE INJURY'\n",
            " 'EMS: ELECTROCUTION' 'EMS: STABBING' 'Fire: FIRE POLICE NEEDED'\n",
            " 'EMS: AMPUTATION' 'EMS: ANIMAL BITE' 'EMS: FIRE ALARM'\n",
            " 'EMS: VEHICLE FIRE' 'EMS: HAZARDOUS MATERIALS INCIDENT'\n",
            " 'EMS: RESCUE - ELEVATOR' 'EMS: FIRE INVESTIGATION'\n",
            " 'Fire: MEDICAL ALERT ALARM' 'EMS: UNKNOWN TYPE FIRE' 'EMS: GAS-ODOR/LEAK'\n",
            " 'Fire: TRAIN CRASH' 'Fire: HAZARDOUS MATERIALS INCIDENT'\n",
            " 'EMS: TRANSFERRED CALL' 'EMS: TRAIN CRASH' 'EMS: RESCUE - WATER'\n",
            " 'EMS: S/B AT HELICOPTER LANDING' 'Fire: UNKNOWN MEDICAL EMERGENCY'\n",
            " 'Fire: RESCUE - WATER' 'EMS: CARDIAC ARREST' 'EMS: PLANE CRASH'\n",
            " 'Fire: PLANE CRASH' 'EMS: WOODS/FIELD FIRE' 'Fire: CARDIAC ARREST'\n",
            " 'Fire: EMS SPECIAL SERVICE' 'Fire: UNCONSCIOUS SUBJECT'\n",
            " 'EMS: HEAT EXHAUSTION' 'EMS: DEBRIS/FLUIDS ON HIGHWAY'\n",
            " 'EMS: ACTIVE SHOOTER' 'EMS: DISABLED VEHICLE' 'Fire: POLICE INFORMATION'\n",
            " 'Fire: DIABETIC EMERGENCY' 'EMS: BOMB DEVICE FOUND'\n",
            " 'Fire: SYNCOPAL EPISODE' 'EMS: INDUSTRIAL ACCIDENT' 'EMS: DROWNING'\n",
            " 'EMS: SUSPICIOUS']\n"
          ],
          "name": "stdout"
        }
      ]
    },
    {
      "cell_type": "code",
      "metadata": {
        "colab": {
          "base_uri": "https://localhost:8080/"
        },
        "id": "g7IjTyvft6UL",
        "outputId": "5d73559b-1048-4d1b-c197-70907cabee50"
      },
      "source": [
        "print(titlesCount)"
      ],
      "execution_count": 7,
      "outputs": [
        {
          "output_type": "stream",
          "text": [
            "110\n"
          ],
          "name": "stdout"
        }
      ]
    },
    {
      "cell_type": "markdown",
      "metadata": {
        "id": "kQh3p48bq4SD"
      },
      "source": [
        "There are 110 unique titles for the 911 calls."
      ]
    },
    {
      "cell_type": "markdown",
      "metadata": {
        "id": "YrzDIjeFt9lW"
      },
      "source": [
        "What are the top 5 reasons for calling 911?"
      ]
    },
    {
      "cell_type": "code",
      "metadata": {
        "colab": {
          "base_uri": "https://localhost:8080/"
        },
        "id": "qqTAmlumGKzx",
        "outputId": "d15751d2-3625-4228-da7b-a6262ef96427"
      },
      "source": [
        "data['title'].value_counts(normalize = True).head(5) * 100"
      ],
      "execution_count": 8,
      "outputs": [
        {
          "output_type": "execute_result",
          "data": {
            "text/plain": [
              "Traffic: VEHICLE ACCIDENT -    23.183774\n",
              "Traffic: DISABLED VEHICLE -     7.741326\n",
              "Fire: FIRE ALARM                5.524062\n",
              "EMS: RESPIRATORY EMERGENCY      5.138102\n",
              "EMS: CARDIAC EMERGENCY          5.037591\n",
              "Name: title, dtype: float64"
            ]
          },
          "metadata": {
            "tags": []
          },
          "execution_count": 8
        }
      ]
    },
    {
      "cell_type": "markdown",
      "metadata": {
        "id": "dUllcv4pGzCn"
      },
      "source": [
        "The top 5 reasons are:\n",
        "\n",
        "Traffic: VEHICLE ACCIDENT -    23.18%\n",
        "\n",
        "Traffic: DISABLED VEHICLE -     7.74%\n",
        "\n",
        "Fire: FIRE ALARM -              5.52%\n",
        "\n",
        "EMS: RESPIRATORY EMERGENCY -    5.14%\n",
        "\n",
        "EMS: CARDIAC EMERGENCY -        5.04%\n"
      ]
    },
    {
      "cell_type": "markdown",
      "metadata": {
        "id": "0ladwpg0HmDb"
      },
      "source": [
        "How many calls are vehicle related?"
      ]
    },
    {
      "cell_type": "code",
      "metadata": {
        "colab": {
          "base_uri": "https://localhost:8080/"
        },
        "id": "MXwUQy1IITrr",
        "outputId": "da711146-5d82-4e10-f3aa-7fd716241693"
      },
      "source": [
        "boolean_mask = data['title'].str.lower().str.contains('vehicle')\n",
        "data[boolean_mask]['title'].unique()"
      ],
      "execution_count": 9,
      "outputs": [
        {
          "output_type": "execute_result",
          "data": {
            "text/plain": [
              "array(['Traffic: VEHICLE ACCIDENT -', 'EMS: VEHICLE ACCIDENT',\n",
              "       'Traffic: DISABLED VEHICLE -', 'Fire: VEHICLE ACCIDENT',\n",
              "       'Traffic: VEHICLE LEAKING FUEL -', 'Fire: VEHICLE FIRE',\n",
              "       'Traffic: VEHICLE FIRE -', 'Fire: VEHICLE LEAKING FUEL',\n",
              "       'EMS: VEHICLE FIRE', 'EMS: DISABLED VEHICLE'], dtype=object)"
            ]
          },
          "metadata": {
            "tags": []
          },
          "execution_count": 9
        }
      ]
    },
    {
      "cell_type": "code",
      "metadata": {
        "colab": {
          "base_uri": "https://localhost:8080/"
        },
        "id": "pK9cZHFXjtGw",
        "outputId": "2d824144-7a3a-49a4-c1fd-7f899a9c294e"
      },
      "source": [
        "round(data[boolean_mask]['title'].count()/len(data) * 100,2)"
      ],
      "execution_count": 11,
      "outputs": [
        {
          "output_type": "execute_result",
          "data": {
            "text/plain": [
              "37.78"
            ]
          },
          "metadata": {
            "tags": []
          },
          "execution_count": 11
        }
      ]
    },
    {
      "cell_type": "markdown",
      "metadata": {
        "id": "3R__hgugj5L_"
      },
      "source": [
        "***Vehicle related calls*** are 37.78% of all calls"
      ]
    },
    {
      "cell_type": "markdown",
      "metadata": {
        "id": "4SjYBkR1H42v"
      },
      "source": [
        "which zip code had the highest calls? Which had the least?"
      ]
    },
    {
      "cell_type": "code",
      "metadata": {
        "colab": {
          "base_uri": "https://localhost:8080/"
        },
        "id": "npVIjX2FIDaB",
        "outputId": "3081aa58-0429-44f0-cd68-caf6ad9a7ec8"
      },
      "source": [
        "data['zip'].value_counts(normalize = True).head(1) * 100 #HEAD(1)"
      ],
      "execution_count": 12,
      "outputs": [
        {
          "output_type": "execute_result",
          "data": {
            "text/plain": [
              "19401.0    8.05545\n",
              "Name: zip, dtype: float64"
            ]
          },
          "metadata": {
            "tags": []
          },
          "execution_count": 12
        }
      ]
    },
    {
      "cell_type": "markdown",
      "metadata": {
        "id": "oBupRRqLv5ni"
      },
      "source": [
        "- 19401 had the most amount of calls\n",
        "- 17752 had the least amount of calls\n"
      ]
    },
    {
      "cell_type": "code",
      "metadata": {
        "colab": {
          "base_uri": "https://localhost:8080/"
        },
        "id": "DFFsgVjIkfuj",
        "outputId": "a52ef5ed-22dc-4230-cbf4-96b9ce775ee6"
      },
      "source": [
        "data['zip'].value_counts(normalize = True).tail(1) * 100 #Tail(1)"
      ],
      "execution_count": 13,
      "outputs": [
        {
          "output_type": "execute_result",
          "data": {
            "text/plain": [
              "17752.0    0.001154\n",
              "Name: zip, dtype: float64"
            ]
          },
          "metadata": {
            "tags": []
          },
          "execution_count": 13
        }
      ]
    },
    {
      "cell_type": "markdown",
      "metadata": {
        "id": "mA3Gj27fkngn"
      },
      "source": [
        "Which day had the most calls? Which day had the least?"
      ]
    },
    {
      "cell_type": "code",
      "metadata": {
        "colab": {
          "base_uri": "https://localhost:8080/"
        },
        "id": "xgnRJ_R5k4mc",
        "outputId": "e38fd427-afbc-4697-c4d2-4f62f5d859f3"
      },
      "source": [
        "data['timeStamp'].value_counts(normalize = True).head(1) * 100"
      ],
      "execution_count": 15,
      "outputs": [
        {
          "output_type": "execute_result",
          "data": {
            "text/plain": [
              "2015-12-10 17:40:01    0.008041\n",
              "Name: timeStamp, dtype: float64"
            ]
          },
          "metadata": {
            "tags": []
          },
          "execution_count": 15
        }
      ]
    },
    {
      "cell_type": "code",
      "metadata": {
        "colab": {
          "base_uri": "https://localhost:8080/"
        },
        "id": "fPHHL_kklCVp",
        "outputId": "0b58d13c-a0bf-401a-a321-56299011e733"
      },
      "source": [
        "data['timeStamp'].value_counts(normalize = True).tail(1) * 100"
      ],
      "execution_count": 17,
      "outputs": [
        {
          "output_type": "execute_result",
          "data": {
            "text/plain": [
              "2016-07-10 12:17:00    0.001005\n",
              "Name: timeStamp, dtype: float64"
            ]
          },
          "metadata": {
            "tags": []
          },
          "execution_count": 17
        }
      ]
    },
    {
      "cell_type": "markdown",
      "metadata": {
        "id": "2nTGE-kMl7Ar"
      },
      "source": [
        "- 2015-12-10 had the most calls, with 0.008041% of all calls.\n",
        "\n",
        "- 2016-07-10 had the least amount of calls, with 0.001005 of all calls"
      ]
    },
    {
      "cell_type": "code",
      "metadata": {
        "id": "mUjAK74Klxm4"
      },
      "source": [
        ""
      ],
      "execution_count": null,
      "outputs": []
    }
  ]
}