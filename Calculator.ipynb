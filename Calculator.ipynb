{
  "nbformat": 4,
  "nbformat_minor": 0,
  "metadata": {
    "colab": {
      "name": "Calculator.ipynb",
      "provenance": [],
      "authorship_tag": "ABX9TyMdEeqeGU7xE7i59q14hyOa",
      "include_colab_link": true
    },
    "kernelspec": {
      "name": "python3",
      "display_name": "Python 3"
    }
  },
  "cells": [
    {
      "cell_type": "markdown",
      "metadata": {
        "id": "view-in-github",
        "colab_type": "text"
      },
      "source": [
        "<a href=\"https://colab.research.google.com/github/Jczo/MyMLRepo/blob/master/Calculator.ipynb\" target=\"_parent\"><img src=\"https://colab.research.google.com/assets/colab-badge.svg\" alt=\"Open In Colab\"/></a>"
      ]
    },
    {
      "cell_type": "code",
      "metadata": {
        "id": "Qfi6X9HAk-3Y"
      },
      "source": [
        "\n",
        "def calculator(num1, num2, operator): #THE ARITHMETIC OF THE USER INPUTS\n",
        "\n",
        "\n",
        "  if operator == '+' : #ADDITION\n",
        "    return num1 + num2\n",
        "\n",
        "  elif operator == '-' : #SUBTRACTION\n",
        "    return num1 - num2\n",
        "\n",
        "  elif operator == '*' : #MULTIPLICATION\n",
        "    return num1 * num2\n",
        "\n",
        "  elif operator == '/' : #DIVISION\n",
        "    return num1 / num2\n",
        "\n",
        "\n",
        "\n",
        "\n",
        "#THE USER INTERFACE FOR THE CALCULATOR\n",
        "def calculator_interface(): \n",
        "  saved_value = 'Null'; #PLACEHOLDER FOR SAVED_VALUE, VARIABLE IS FOR USER SAVING THE RESULT FOR MORE OPERATIONS\n",
        "  num_1 = 0; \n",
        "  num_2 = 0; \n",
        "  operator = 'Null'; #PLACEHOLDER FOR OPERATOR\n",
        "  result = 0; \n",
        "\n",
        "\n",
        "  while saved_value != 'Q' and saved_value != 'q': #While user doesn't quit program\n",
        "    if saved_value == 'Y' or 'y': #If user chose to save the result as num1\n",
        "      num1 = result #save result to num1\n",
        "\n",
        "    #START OF THE INRERFACE SHOWN TO THE USER: \n",
        "\n",
        "    if saved_value != 'Y' and saved_value != 'y': #IF USER CHOSE TO SAVE RESULT AS NUM_1, NUM_1 WILL NOT BE AVAILABLE FOR INPUT\n",
        "      num1 = float(input('first number:  '))\n",
        "\n",
        "    operator = str(input('Enter  (+, -, *, / ): ')) #USER CHOSSING OPERATOR\n",
        "    num2 = float(input('second number: '))\n",
        "\n",
        "    print(calculator(num1, num2, operator)) #PRINTS THE CALCULATOR'S RESULT\n",
        "\n",
        "    result = calculator(num1, num2, operator) #ASSIGNS RESULT TO VARIABLE\n",
        "\n",
        "    saved_value = str(input('do you want to save the result value as the first number? if so, Press Y, or PRESS Q TO QUIT: '))\n",
        "    #IF USER DECIDES TO SAVE THE RESULT, ALGORITHM RESTARTS\n",
        "\n",
        "\n",
        "\n"
      ],
      "execution_count": 6,
      "outputs": []
    },
    {
      "cell_type": "code",
      "metadata": {
        "colab": {
          "base_uri": "https://localhost:8080/"
        },
        "id": "ioBX-F1VlCnw",
        "outputId": "aede022f-b8e6-4b24-cc52-c0e7ad7a730a"
      },
      "source": [
        "calculator_interface()"
      ],
      "execution_count": 7,
      "outputs": [
        {
          "output_type": "stream",
          "text": [
            "first number:  21\n",
            "Enter  (+, -, *, / ): /\n",
            "second number: 3\n",
            "7.0\n",
            "do you want to save the result value as the first number? if so, Press Y, or PRESS Q TO QUIT: y\n",
            "Enter  (+, -, *, / ): -\n",
            "second number: 3\n",
            "4.0\n",
            "do you want to save the result value as the first number? if so, Press Y, or PRESS Q TO QUIT: q\n"
          ],
          "name": "stdout"
        }
      ]
    },
    {
      "cell_type": "code",
      "metadata": {
        "id": "lG2gjC_ylGGc"
      },
      "source": [
        ""
      ],
      "execution_count": null,
      "outputs": []
    }
  ]
}