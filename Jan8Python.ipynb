{
  "nbformat": 4,
  "nbformat_minor": 0,
  "metadata": {
    "colab": {
      "name": "Jan8Python.ipynb",
      "provenance": [],
      "authorship_tag": "ABX9TyPAuTmjx+TR0EUgfVmgQ05J",
      "include_colab_link": true
    },
    "kernelspec": {
      "name": "python3",
      "display_name": "Python 3"
    }
  },
  "cells": [
    {
      "cell_type": "markdown",
      "metadata": {
        "id": "view-in-github",
        "colab_type": "text"
      },
      "source": [
        "<a href=\"https://colab.research.google.com/github/Jczo/MyMLRepo/blob/master/Jan8Python.ipynb\" target=\"_parent\"><img src=\"https://colab.research.google.com/assets/colab-badge.svg\" alt=\"Open In Colab\"/></a>"
      ]
    },
    {
      "cell_type": "code",
      "metadata": {
        "colab": {
          "base_uri": "https://localhost:8080/"
        },
        "id": "8v5umB6Du_t4",
        "outputId": "77118d51-18ed-453c-b272-2dd250788764"
      },
      "source": [
        "for num in range(2, 101):\n",
        "  if all (num%i !=0 for i in range(2, num)):\n",
        "    print(num)"
      ],
      "execution_count": 1,
      "outputs": [
        {
          "output_type": "stream",
          "text": [
            "2\n",
            "3\n",
            "5\n",
            "7\n",
            "11\n",
            "13\n",
            "17\n",
            "19\n",
            "23\n",
            "29\n",
            "31\n",
            "37\n",
            "41\n",
            "43\n",
            "47\n",
            "53\n",
            "59\n",
            "61\n",
            "67\n",
            "71\n",
            "73\n",
            "79\n",
            "83\n",
            "89\n",
            "97\n"
          ],
          "name": "stdout"
        }
      ]
    },
    {
      "cell_type": "code",
      "metadata": {
        "colab": {
          "base_uri": "https://localhost:8080/"
        },
        "id": "2V1Nha8Jvgui",
        "outputId": "d8e1f429-a726-4518-f8cd-8844d9bfcc1c"
      },
      "source": [
        "#SLICING\n",
        "tvshows = ['star trek','got', 'stranger things','big bang theory','black mirror']\n",
        "\n",
        "print(tvshows[0:3])\n",
        "print(tvshows[:3])\n"
      ],
      "execution_count": 2,
      "outputs": [
        {
          "output_type": "stream",
          "text": [
            "['star trek', 'got', 'stranger things']\n",
            "['star trek', 'got', 'stranger things']\n"
          ],
          "name": "stdout"
        }
      ]
    },
    {
      "cell_type": "code",
      "metadata": {
        "colab": {
          "base_uri": "https://localhost:8080/"
        },
        "id": "WMBdPed9xKTz",
        "outputId": "ebcdac5f-d0c5-4a02-e457-548f46a1ca8a"
      },
      "source": [
        "family = ['jose','angelica','candida','jaime','hugo','esperanza']\n",
        "\n",
        "print(family[:2])\n",
        "print(family[0:4])\n",
        "print(family[:1])\n",
        "print(family[1:3])\n",
        "print(family[4:5])\n",
        "print(family[:0])\n",
        "print(family[3:4])\n",
        "print(family[:5])\n",
        "print(family[2:3])\n",
        "print(family[1:2])"
      ],
      "execution_count": 3,
      "outputs": [
        {
          "output_type": "stream",
          "text": [
            "['jose', 'angelica']\n",
            "['jose', 'angelica', 'candida', 'jaime']\n",
            "['jose']\n",
            "['angelica', 'candida']\n",
            "['hugo']\n",
            "[]\n",
            "['jaime']\n",
            "['jose', 'angelica', 'candida', 'jaime', 'hugo']\n",
            "['candida']\n",
            "['angelica']\n"
          ],
          "name": "stdout"
        }
      ]
    },
    {
      "cell_type": "code",
      "metadata": {
        "id": "0_ejvlWQyDbk"
      },
      "source": [
        ""
      ],
      "execution_count": null,
      "outputs": []
    }
  ]
}